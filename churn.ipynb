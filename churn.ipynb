import pandas as pd
from sklearn.preprocessing import LabelEncoder, StandardScaler
from sklearn.ensemble import RandomForestClassifier
from sklearn.metrics import confusion_matrix, classification_report
import joblib

# Load datasets
train_data = pd.read_csv("insert your directory.csv")
test_data = pd.read_csv("insert your directory.csv")

# Drop irrelevant columns
drop_cols = ["LATITUDE", "LONGITUDE", "CITY", "STATE", "COUNTY",
             "CURR_ANN_AMT", "HAS_CHILDREN", "LENGTH_OF_RESIDENCE",
             "DAYS_TENURE", "CUST_ORIG_DATE", "Age Group", "HOME_MARKET_VALUE", "Income Bracket"]

# Encode marital status
encoder = LabelEncoder()
train_data["Marital Status"] = encoder.fit_transform(train_data["MARITAL_STATUS"])
test_data["Marital Status"] = encoder.transform(test_data["MARITAL_STATUS"])


train_data.head()
# Separate features and target
X_train = train_data.drop("CHURN", axis=1)
y_train = train_data["CHURN"]
X_test = test_data[X_train.columns]

# Scale features
scaler = StandardScaler()
X_train_scaled = scaler.fit_transform(X_train)
X_test_scaled = scaler.transform(X_test)

X_train_scaled

# save preprocessing tools
joblib.dump(scaler, r"insert your directory")

joblib.dump(encoder, r"insert your directory")

#Train RandomForestClassifier
model = RandomForestClassifier(random_state=42)
model.fit(X_train_scaled, y_train)

joblib.dump(model, r"insert your directory")

from sklearn.metrics import classification_report, confusion_matrix

# Evaluate on training data
y_pred_train = model.predict(X_train_scaled)

print("Training Confusion Matrix:")
print(confusion_matrix(y_train, y_pred_train))

print("\nClassification Report:")
print(classification_report(y_train, y_pred_train))

def make_prediction(input_data: dict):
    import pandas as pd
    import joblib

    # Load the model, scaler, and encoder
    model = joblib.load(r"insert your directory")
    scaler = joblib.load(r"insert your directory")
    encoder = joblib.load(r"insert your directory")

    # Validate input keys
    required_keys = ['AGE_IN_YEARS', 'INCOME', 'HOME_OWNER', 'COLLEGE_DEGREE', 'GOOD_CREDIT', 'Marital Status']
    for key in required_keys:
        if key not in input_data:
            raise ValueError(f"Missing required key: {key}")

    # Convert input to DataFrame
    input_df = pd.DataFrame([input_data])

    # Scale numerical features
    numerical_cols = ['AGE_IN_YEARS', 'INCOME', 'HOME_OWNER', 'COLLEGE_DEGREE', 'GOOD_CREDIT', 'Marital Status']
    input_df[numerical_cols] = scaler.transform(input_df[numerical_cols])

    # Predict
    prediction = model.predict(input_df)[0]
    probability = model.predict_proba(input_df)[0, 1]

    return {
        "Churn Status": "Churn" if prediction == 1 else "No Churn",
        "Probability": probability
    }

sample_input = {
    "AGE_IN_YEARS": 52,
    "INCOME": 80372,
    "HOME_OWNER": 0,
    "COLLEGE_DEGREE": 0,
    "GOOD_CREDIT": 1,
    "Marital Status": 2  # Must match what the encoder was trained on
}

result = make_prediction(sample_input)
print("Prediction:", result)

